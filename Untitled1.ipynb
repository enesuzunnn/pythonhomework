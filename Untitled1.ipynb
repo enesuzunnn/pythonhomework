{
 "cells": [
  {
   "cell_type": "code",
   "execution_count": null,
   "metadata": {},
   "outputs": [],
   "source": [
    "namesurname=\"Enes Uzun\"\n",
    "check=False\n",
    "for i in range (3):\n",
    "    namesurname1=input(\"namesurname\")\n",
    "    if(namesurname == namesurname1 ):\n",
    "        print(\"Welcome\")\n",
    "        check=True\n",
    "        break\n",
    "    else:\n",
    "        print(\"Incorrect\")\n",
    "if not check:\n",
    "    print(\"Please try again later\")"
   ]
  },
  {
   "cell_type": "code",
   "execution_count": null,
   "metadata": {},
   "outputs": [],
   "source": []
  }
 ],
 "metadata": {
  "kernelspec": {
   "display_name": "Python 3",
   "language": "python",
   "name": "python3"
  },
  "language_info": {
   "codemirror_mode": {
    "name": "ipython",
    "version": 3
   },
   "file_extension": ".py",
   "mimetype": "text/x-python",
   "name": "python",
   "nbconvert_exporter": "python",
   "pygments_lexer": "ipython3",
   "version": "3.9.0"
  }
 },
 "nbformat": 4,
 "nbformat_minor": 4
}
